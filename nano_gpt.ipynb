{
  "cells": [
    {
      "cell_type": "markdown",
      "metadata": {
        "id": "view-in-github",
        "colab_type": "text"
      },
      "source": [
        "<a href=\"https://colab.research.google.com/github/norflin321/ml/blob/main/nano_gpt.ipynb\" target=\"_parent\"><img src=\"https://colab.research.google.com/assets/colab-badge.svg\" alt=\"Open In Colab\"/></a>"
      ]
    },
    {
      "cell_type": "code",
      "execution_count": null,
      "metadata": {
        "id": "-OeQ_SmitvEh"
      },
      "outputs": [],
      "source": [
        "import torch\n",
        "from torch.nn import functional as fun\n",
        "\n",
        "with open(\"tiny_shakespeare.txt\", \"r\", encoding=\"utf-8\") as file:\n",
        "    text = file.read()\n",
        "\n",
        "print(\"-- dataset len:\", len(text))\n",
        "\n",
        "# here are all the unique characters that occur in the text\n",
        "chars = sorted(list(set(text)))\n",
        "vocab_size = len(chars)\n",
        "\n",
        "# create a mapping from characters to integers\n",
        "stoi = { ch:i for i,ch in enumerate(chars) }\n",
        "itos = { i:ch for i,ch in enumerate(chars) }\n",
        "encode = lambda s: [stoi[c] for c in s]\n",
        "decode = lambda l: \"\".join([itos[i] for i in l])\n",
        "print(f\"-- dataset has {vocab_size} unique characters:\", itos)\n",
        "\n",
        "# let's now encode the entire text dataset and store it into a torch.tensor\n",
        "data = torch.tensor(encode(text), dtype=torch.long)\n",
        "\n",
        "# let's now split up the data into train and validation sets\n",
        "n = int(0.9*len(data)) # first 90% will be train, rest val\n",
        "train_data = data[:n]\n",
        "val_data = data[n:]\n",
        "\n",
        "torch.manual_seed(1337)\n",
        "batch_size = 4 # how many independent sequences will we process in parallel?\n",
        "block_size = 8 # what is the maximum context length for predictions?\n",
        "\n",
        "def get_batch(split):\n",
        "    # generate a small batch of data of inputs x and targets y\n",
        "    data = train_data if split == \"train\" else val_data\n",
        "    ix = torch.randint(len(data) - block_size, (batch_size,))\n",
        "    x = torch.stack([data[i:i+block_size] for i in ix])\n",
        "    y = torch.stack([data[i+1:i+block_size+1] for i in ix])\n",
        "    return x, y\n",
        "\n",
        "inputs, targets = get_batch(\"train\")\n",
        "print(\"-- inputs:\", inputs)\n",
        "print(\"-- targets:\", targets)\n",
        "\n",
        "for b in range(batch_size): # batch dimension\n",
        "    for t in range(block_size): # time dimension\n",
        "        context = inputs[b, :t+1]\n",
        "        target = targets[b, t]\n",
        "        print(f\"-- when input is {context.tolist()} the target: {target}\")\n",
        "\n",
        "torch.manual_seed(1337)\n",
        "class BigramLanguageModel(torch.nn.Module):\n",
        "    def __init__(self, vocab_size):\n",
        "        super().__init__()\n",
        "        # create embeding table which is a tensor of shape [64, 64] filled with random numbers\n",
        "        self.token_embedding_table = torch.nn.Embedding(vocab_size, vocab_size)\n",
        "    def forward(self, inputs, targets):\n",
        "        # we cant just train a model on indices of characters from lookup table, before we need to embed them.\n",
        "        # after embeding we should get a tensor with shape [4, 8, 64], which means that each of 8 numbers in 4 rows, now represented as one dim tensor with 64 random numbers\n",
        "        logits = self.token_embedding_table(inputs)\n",
        "        return logits\n",
        "\n",
        "model = BigramLanguageModel(vocab_size) # initializa the model\n",
        "logits = model(inputs, targets) # forward pass\n",
        "\n",
        "print(\"-- logits:\", logits.shape)"
      ]
    }
  ],
  "metadata": {
    "colab": {
      "provenance": [],
      "authorship_tag": "ABX9TyOcOph9OBvhx9VyJdvQai+j",
      "include_colab_link": true
    },
    "gpuClass": "standard",
    "kernelspec": {
      "display_name": "Python 3",
      "name": "python3"
    },
    "language_info": {
      "name": "python"
    }
  },
  "nbformat": 4,
  "nbformat_minor": 0
}