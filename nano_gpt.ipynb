{
  "cells": [
    {
      "cell_type": "markdown",
      "metadata": {
        "id": "view-in-github",
        "colab_type": "text"
      },
      "source": [
        "<a href=\"https://colab.research.google.com/github/norflin321/ml/blob/main/nano_gpt.ipynb\" target=\"_parent\"><img src=\"https://colab.research.google.com/assets/colab-badge.svg\" alt=\"Open In Colab\"/></a>"
      ]
    },
    {
      "cell_type": "code",
      "execution_count": 17,
      "metadata": {
        "colab": {
          "base_uri": "https://localhost:8080/"
        },
        "id": "-OeQ_SmitvEh",
        "outputId": "62c944c3-8d22-4a24-fa89-7fcfc13cbbbb"
      },
      "outputs": [
        {
          "output_type": "stream",
          "name": "stdout",
          "text": [
            "-- dataset len: 1115394\n",
            "-- dataset has 65 unique characters: {0: '\\n', 1: ' ', 2: '!', 3: '$', 4: '&', 5: \"'\", 6: ',', 7: '-', 8: '.', 9: '3', 10: ':', 11: ';', 12: '?', 13: 'A', 14: 'B', 15: 'C', 16: 'D', 17: 'E', 18: 'F', 19: 'G', 20: 'H', 21: 'I', 22: 'J', 23: 'K', 24: 'L', 25: 'M', 26: 'N', 27: 'O', 28: 'P', 29: 'Q', 30: 'R', 31: 'S', 32: 'T', 33: 'U', 34: 'V', 35: 'W', 36: 'X', 37: 'Y', 38: 'Z', 39: 'a', 40: 'b', 41: 'c', 42: 'd', 43: 'e', 44: 'f', 45: 'g', 46: 'h', 47: 'i', 48: 'j', 49: 'k', 50: 'l', 51: 'm', 52: 'n', 53: 'o', 54: 'p', 55: 'q', 56: 'r', 57: 's', 58: 't', 59: 'u', 60: 'v', 61: 'w', 62: 'x', 63: 'y', 64: 'z'}\n",
            "-- inputs: tensor([[24, 43, 58,  5, 57,  1, 46, 43],\n",
            "        [44, 53, 56,  1, 58, 46, 39, 58],\n",
            "        [52, 58,  1, 58, 46, 39, 58,  1],\n",
            "        [25, 17, 27, 10,  0, 21,  1, 54]])\n",
            "-- targets: tensor([[43, 58,  5, 57,  1, 46, 43, 39],\n",
            "        [53, 56,  1, 58, 46, 39, 58,  1],\n",
            "        [58,  1, 58, 46, 39, 58,  1, 46],\n",
            "        [17, 27, 10,  0, 21,  1, 54, 39]])\n",
            "-- when input is [24] the target: 43\n",
            "-- when input is [24, 43] the target: 58\n",
            "-- when input is [24, 43, 58] the target: 5\n",
            "-- when input is [24, 43, 58, 5] the target: 57\n",
            "-- when input is [24, 43, 58, 5, 57] the target: 1\n",
            "-- when input is [24, 43, 58, 5, 57, 1] the target: 46\n",
            "-- when input is [24, 43, 58, 5, 57, 1, 46] the target: 43\n",
            "-- when input is [24, 43, 58, 5, 57, 1, 46, 43] the target: 39\n",
            "-- when input is [44] the target: 53\n",
            "-- when input is [44, 53] the target: 56\n",
            "-- when input is [44, 53, 56] the target: 1\n",
            "-- when input is [44, 53, 56, 1] the target: 58\n",
            "-- when input is [44, 53, 56, 1, 58] the target: 46\n",
            "-- when input is [44, 53, 56, 1, 58, 46] the target: 39\n",
            "-- when input is [44, 53, 56, 1, 58, 46, 39] the target: 58\n",
            "-- when input is [44, 53, 56, 1, 58, 46, 39, 58] the target: 1\n",
            "-- when input is [52] the target: 58\n",
            "-- when input is [52, 58] the target: 1\n",
            "-- when input is [52, 58, 1] the target: 58\n",
            "-- when input is [52, 58, 1, 58] the target: 46\n",
            "-- when input is [52, 58, 1, 58, 46] the target: 39\n",
            "-- when input is [52, 58, 1, 58, 46, 39] the target: 58\n",
            "-- when input is [52, 58, 1, 58, 46, 39, 58] the target: 1\n",
            "-- when input is [52, 58, 1, 58, 46, 39, 58, 1] the target: 46\n",
            "-- when input is [25] the target: 17\n",
            "-- when input is [25, 17] the target: 27\n",
            "-- when input is [25, 17, 27] the target: 10\n",
            "-- when input is [25, 17, 27, 10] the target: 0\n",
            "-- when input is [25, 17, 27, 10, 0] the target: 21\n",
            "-- when input is [25, 17, 27, 10, 0, 21] the target: 1\n",
            "-- when input is [25, 17, 27, 10, 0, 21, 1] the target: 54\n",
            "-- when input is [25, 17, 27, 10, 0, 21, 1, 54] the target: 39\n",
            "-- logits: torch.Size([4, 8, 65])\n"
          ]
        }
      ],
      "source": [
        "import torch\n",
        "from torch.nn import functional as fun\n",
        "\n",
        "with open(\"tiny_shakespeare.txt\", \"r\", encoding=\"utf-8\") as file:\n",
        "    text = file.read()\n",
        "\n",
        "print(\"-- dataset len:\", len(text))\n",
        "\n",
        "# here are all the unique characters that occur in the text\n",
        "chars = sorted(list(set(text)))\n",
        "vocab_size = len(chars)\n",
        "\n",
        "# create a mapping from characters to integers\n",
        "stoi = { ch:i for i,ch in enumerate(chars) }\n",
        "itos = { i:ch for i,ch in enumerate(chars) }\n",
        "encode = lambda s: [stoi[c] for c in s]\n",
        "decode = lambda l: \"\".join([itos[i] for i in l])\n",
        "print(f\"-- dataset has {vocab_size} unique characters:\", itos)\n",
        "\n",
        "# let's now encode the entire text dataset and store it into a torch.tensor\n",
        "data = torch.tensor(encode(text), dtype=torch.long)\n",
        "\n",
        "# let's now split up the data into train and validation sets\n",
        "n = int(0.9*len(data)) # first 90% will be train, rest val\n",
        "train_data = data[:n]\n",
        "val_data = data[n:]\n",
        "\n",
        "torch.manual_seed(1337)\n",
        "batch_size = 4 # how many independent sequences will we process in parallel?\n",
        "block_size = 8 # what is the maximum context length for predictions?\n",
        "\n",
        "def get_batch(split):\n",
        "    # generate a small batch of data of inputs x and targets y\n",
        "    data = train_data if split == \"train\" else val_data\n",
        "    ix = torch.randint(len(data) - block_size, (batch_size,))\n",
        "    x = torch.stack([data[i:i+block_size] for i in ix])\n",
        "    y = torch.stack([data[i+1:i+block_size+1] for i in ix])\n",
        "    return x, y\n",
        "\n",
        "inputs, targets = get_batch(\"train\")\n",
        "print(\"-- inputs:\", inputs)\n",
        "print(\"-- targets:\", targets)\n",
        "\n",
        "for b in range(batch_size): # batch dimension\n",
        "    for t in range(block_size): # time dimension\n",
        "        context = inputs[b, :t+1]\n",
        "        target = targets[b, t]\n",
        "        print(f\"-- when input is {context.tolist()} the target: {target}\")\n",
        "\n",
        "torch.manual_seed(1337)\n",
        "class BigramLanguageModel(torch.nn.Module):\n",
        "    def __init__(self, vocab_size):\n",
        "        super().__init__()\n",
        "        # create embeding table which is a tensor of shape [64, 64] filled with random numbers\n",
        "        self.token_embedding_table = torch.nn.Embedding(vocab_size, vocab_size)\n",
        "    def forward(self, inputs, targets):\n",
        "        # we cant just train a model on indices of characters from lookup table, before we need to embed them.\n",
        "        # after embeding we should get a tensor with shape [4, 8, 64], which means that each of 8 numbers in 4 rows, now represented as one dim tensor with 64 random numbers\n",
        "        logits = self.token_embedding_table(inputs)\n",
        "        return logits\n",
        "\n",
        "model = BigramLanguageModel(vocab_size) # initializa the model\n",
        "logits = model(inputs, targets) # forward pass\n",
        "\n",
        "print(\"-- logits:\", logits.shape)"
      ]
    },
    {
      "cell_type": "markdown",
      "metadata": {
        "id": "Id057-aiuhl-"
      },
      "source": [
        "# Новый раздел"
      ]
    }
  ],
  "metadata": {
    "colab": {
      "provenance": [],
      "authorship_tag": "ABX9TyOe5ZCnRtoABhRSzPnk0SS+",
      "include_colab_link": true
    },
    "gpuClass": "standard",
    "kernelspec": {
      "display_name": "Python 3",
      "name": "python3"
    },
    "language_info": {
      "name": "python"
    }
  },
  "nbformat": 4,
  "nbformat_minor": 0
}