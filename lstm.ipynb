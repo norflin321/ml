{
 "cells": [
  {
   "cell_type": "markdown",
   "id": "53be6a0d-4890-4d11-a6aa-de4ff2702200",
   "metadata": {},
   "source": [
    "https://www.datacamp.com/tutorial/lstm-python-stock-market"
   ]
  },
  {
   "cell_type": "code",
   "execution_count": null,
   "id": "6a193bc7-bccc-413c-a62c-57e2cc53bd2d",
   "metadata": {},
   "outputs": [],
   "source": [
    "%pip install pandas_datareader tensorflow\n",
    "\n",
    "\n",
    "from pandas_datareader import data\n",
    "import matplotlib.pyplot as plt\n",
    "import pandas as pd\n",
    "import datetime as dt\n",
    "import urllib.request, json\n",
    "import os\n",
    "import numpy as np\n",
    "import tensorflow as tf # This code has been tested with TensorFlow 1.6\n",
    "from sklearn.preprocessing import MinMaxScaler\n",
    "import requests\n",
    "import json "
   ]
  },
  {
   "cell_type": "code",
   "execution_count": null,
   "id": "0d690a01-43da-4253-a3ea-645881208a5f",
   "metadata": {},
   "outputs": [],
   "source": [
    "# Load data from Kaggel\n",
    "df = pd.read_csv(os.path.join('datasets/lstm_dataset/Stocks', 'hpq.us.txt'), delimiter=',', usecols=['Date','Open','High','Low','Close'])\n",
    "\n",
    "# Sort DataFrame by date\n",
    "df = df.sort_values('Date')\n",
    "\n",
    "# Double check the result\n",
    "df.head()"
   ]
  },
  {
   "cell_type": "code",
   "execution_count": null,
   "id": "38aedc5b-7799-4d78-9dfa-ebc62ba5bc17",
   "metadata": {},
   "outputs": [],
   "source": [
    "plt.figure(figsize = (18,9))\n",
    "plt.plot(range(df.shape[0]),(df['Low']+df['High'])/2.0)\n",
    "plt.xticks(range(0,df.shape[0],500),df['Date'].loc[::500],rotation=45)\n",
    "plt.xlabel('Date',fontsize=18)\n",
    "plt.ylabel('Mid Price',fontsize=18)\n",
    "plt.show()"
   ]
  },
  {
   "cell_type": "markdown",
   "id": "ab3109c9-fe48-4570-8da6-f6f63a633498",
   "metadata": {},
   "source": [
    "Therefore you need to make sure that the data behaves in similar value ranges throughout the time frame. You will take care of this during the data normalization phase."
   ]
  },
  {
   "cell_type": "code",
   "execution_count": null,
   "id": "46c2b550-02d3-4fe1-8b14-5905c07eb2cb",
   "metadata": {},
   "outputs": [],
   "source": [
    "# First calculate the mid prices from the highest and lowest\n",
    "high_prices = df.loc[:, 'High'].to_numpy()\n",
    "low_prices = df.loc[:, 'Low'].to_numpy()\n",
    "mid_prices = (high_prices+low_prices)/2.0\n",
    "\n",
    "len(high_prices), high_prices"
   ]
  }
 ],
 "metadata": {
  "kernelspec": {
   "display_name": "Python 3 (ipykernel)",
   "language": "python",
   "name": "python3"
  },
  "language_info": {
   "codemirror_mode": {
    "name": "ipython",
    "version": 3
   },
   "file_extension": ".py",
   "mimetype": "text/x-python",
   "name": "python",
   "nbconvert_exporter": "python",
   "pygments_lexer": "ipython3",
   "version": "3.11.3"
  }
 },
 "nbformat": 4,
 "nbformat_minor": 5
}
