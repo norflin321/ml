{
  "nbformat": 4,
  "nbformat_minor": 0,
  "metadata": {
    "colab": {
      "name": "sentiment-roberta-pipeline.ipynb",
      "provenance": [],
      "include_colab_link": true
    },
    "kernelspec": {
      "name": "python3",
      "display_name": "Python 3"
    },
    "language_info": {
      "name": "python"
    },
    "accelerator": "GPU"
  },
  "cells": [
    {
      "cell_type": "markdown",
      "metadata": {
        "id": "view-in-github",
        "colab_type": "text"
      },
      "source": [
        "<a href=\"https://colab.research.google.com/github/norflin321/ml/blob/main/sentiment_analysis_finbert_example.ipynb\" target=\"_parent\"><img src=\"https://colab.research.google.com/assets/colab-badge.svg\" alt=\"Open In Colab\"/></a>"
      ]
    },
    {
      "cell_type": "code",
      "source": [
        "!pip install transformers\n",
        "\n",
        "from transformers import pipeline, BertTokenizer, BertForSequenceClassification\n",
        "\n",
        "tokenizer = BertTokenizer.from_pretrained(\"ProsusAI/finbert\")\n",
        "model = BertForSequenceClassification.from_pretrained(\"ProsusAI/finbert\")\n",
        "sentiment_task = pipeline(\"sentiment-analysis\", model=model, tokenizer=tokenizer)\n",
        "\n",
        "prompt_1 = \"\"\"\n",
        "In November 2022 cryptocurrency exchange FTX went bust after its rival Binance pulled out of a deal to buy it\n",
        "In June 2022, Celsius Network, a major US cryptocurrency lending company, froze withdrawals and transfers, citing “extreme” conditions.\n",
        "Also in June 2022, Binance, one of the world’s largest cryptocurrency exchanges, paused bitcoin withdrawals, with chief executive Changpeng Zhao blaming a “stuck transaction” that was causing a backlog.\n",
        "Early in 2022, it was reported that Russia might ban cryptocurrency operations. But then, after the invasion of Ukraine, there were calls for crypto exchanges to ban Russian transactions.\n",
        "In May 2021, Tesla boss Elon Musk said that the electric car maker would no longer be accepting digital payments over concerns about the impact of cryptocurrency “mining” – the computing power required to create the likes of bitcoin – on the environment.\n",
        "In June 2021, banks and payment institutions in China were told to stop enabling crypto transactions, and the Chinese government banned the mining of the currencies. Then in September 2021, all crypto transactions were declared illegal, in effect meaning that the likes of bitcoin were banned.\n",
        "Also in June 2021, then US president Donald Trump described bitcoin as a “scam” competing against the dollar to be “the currency of the world”.\n",
        "FBI agents have seized millions of dollars in bitcoin from criminals down the years.\n",
        "In August 2021, UK regulator the Financial Conduct Authority in effect blacklisted Binance, one of the largest crypto exchanges. Big banks such as HSBC and Santander followed suit by blocking customers from making payments to Binance.\n",
        "In the same month, the International Monetary Fund issued a warning on countries using cryptocurrencies as legal tender, saying its widespread use would threaten “macroeconomic stability” and could harm financial integrity.\n",
        "Crypto heist: last August, a hacker stole $600m in a cyber attack targeting the crypto platform Poly Network, only to return more than half of it four days later saying they did it “for fun” and to “expose the vulnerability” in the system before others did.\n",
        "\"\"\"\n",
        "\n",
        "prompt_2 = \"\"\"\n",
        "In March 2021, Morgan Stanley became the first big US bank to offer wealthier clients access to bitcoin funds – albeit restricted to no more than 2.5% of an investor’s total net worth.\n",
        "In June 2021, a month after sparking a crypto sell-off, Elon Musk said Tesla would probably accept bitcoin payments again when more than 50% of its energy usage came from renewable sources.\n",
        "Amazon posted a job advert for a “digital currency and blockchain product lead” in July 2021, prompting speculation that it would soon accept bitcoin as payment.\n",
        "Last September, El Salvador made bitcoin legal tender.\n",
        "\"\"\"\n",
        "\n",
        "print(sentiment_task(prompt_1))\n",
        "print(sentiment_task(prompt_2))\n",
        "\n",
        "# TODO max size of prompt is 512, so we need to divide long text into chunks, then process them one by one, then get average"
      ],
      "metadata": {
        "colab": {
          "base_uri": "https://localhost:8080/"
        },
        "id": "5-CAMYyiwHxj",
        "outputId": "e8a862ac-6814-4d85-b00c-ceda2ecb44d5"
      },
      "execution_count": 17,
      "outputs": [
        {
          "output_type": "stream",
          "name": "stdout",
          "text": [
            "Looking in indexes: https://pypi.org/simple, https://us-python.pkg.dev/colab-wheels/public/simple/\n",
            "Requirement already satisfied: transformers in /usr/local/lib/python3.9/dist-packages (4.27.4)\n",
            "Requirement already satisfied: tokenizers!=0.11.3,<0.14,>=0.11.1 in /usr/local/lib/python3.9/dist-packages (from transformers) (0.13.2)\n",
            "Requirement already satisfied: pyyaml>=5.1 in /usr/local/lib/python3.9/dist-packages (from transformers) (6.0)\n",
            "Requirement already satisfied: requests in /usr/local/lib/python3.9/dist-packages (from transformers) (2.27.1)\n",
            "Requirement already satisfied: filelock in /usr/local/lib/python3.9/dist-packages (from transformers) (3.10.7)\n",
            "Requirement already satisfied: tqdm>=4.27 in /usr/local/lib/python3.9/dist-packages (from transformers) (4.65.0)\n",
            "Requirement already satisfied: regex!=2019.12.17 in /usr/local/lib/python3.9/dist-packages (from transformers) (2022.10.31)\n",
            "Requirement already satisfied: huggingface-hub<1.0,>=0.11.0 in /usr/local/lib/python3.9/dist-packages (from transformers) (0.13.3)\n",
            "Requirement already satisfied: packaging>=20.0 in /usr/local/lib/python3.9/dist-packages (from transformers) (23.0)\n",
            "Requirement already satisfied: numpy>=1.17 in /usr/local/lib/python3.9/dist-packages (from transformers) (1.22.4)\n",
            "Requirement already satisfied: typing-extensions>=3.7.4.3 in /usr/local/lib/python3.9/dist-packages (from huggingface-hub<1.0,>=0.11.0->transformers) (4.5.0)\n",
            "Requirement already satisfied: urllib3<1.27,>=1.21.1 in /usr/local/lib/python3.9/dist-packages (from requests->transformers) (1.26.15)\n",
            "Requirement already satisfied: idna<4,>=2.5 in /usr/local/lib/python3.9/dist-packages (from requests->transformers) (3.4)\n",
            "Requirement already satisfied: charset-normalizer~=2.0.0 in /usr/local/lib/python3.9/dist-packages (from requests->transformers) (2.0.12)\n",
            "Requirement already satisfied: certifi>=2017.4.17 in /usr/local/lib/python3.9/dist-packages (from requests->transformers) (2022.12.7)\n",
            "[{'label': 'negative', 'score': 0.8116700053215027}]\n",
            "[{'label': 'neutral', 'score': 0.7744911909103394}]\n"
          ]
        }
      ]
    }
  ]
}