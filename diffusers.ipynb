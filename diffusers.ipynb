{
  "nbformat": 4,
  "nbformat_minor": 0,
  "metadata": {
    "colab": {
      "provenance": [],
      "authorship_tag": "ABX9TyN/SqbHFx2qUbZXohOxCxJ3",
      "include_colab_link": true
    },
    "kernelspec": {
      "name": "python3",
      "display_name": "Python 3"
    },
    "language_info": {
      "name": "python"
    }
  },
  "cells": [
    {
      "cell_type": "markdown",
      "metadata": {
        "id": "view-in-github",
        "colab_type": "text"
      },
      "source": [
        "<a href=\"https://colab.research.google.com/github/norflin321/ml/blob/main/diffusers.ipynb\" target=\"_parent\"><img src=\"https://colab.research.google.com/assets/colab-badge.svg\" alt=\"Open In Colab\"/></a>"
      ]
    },
    {
      "cell_type": "code",
      "execution_count": 6,
      "metadata": {
        "colab": {
          "base_uri": "https://localhost:8080/"
        },
        "id": "s9fA6qD7adhl",
        "outputId": "7aafff66-ecb9-4d21-986b-f894f638e6a4"
      },
      "outputs": [
        {
          "output_type": "stream",
          "name": "stdout",
          "text": [
            "  Running command git clone --filter=blob:none --quiet https://github.com/huggingface/diffusers.git /tmp/pip-req-build-di_e70dl\n",
            "File ‘toolbox.py’ already there; not retrieving.\n",
            "\n",
            "rm: cannot remove 'sample_data': No such file or directory\n"
          ]
        }
      ],
      "source": [
        "%pip install -U git+https://github.com/huggingface/diffusers.git controlnet_aux==0.0.7 > install_logs.txt\n",
        "%pip install transformers accelerate protobuf sentencepiece safetensors mediapipe invisible_watermark > install_logs.txt\n",
        "%pip install -U xformers --index-url https://download.pytorch.org/whl/cu121 > install_logs.txt\n",
        "%pip install -U peft > install_logs.txt\n",
        "!wget -nc https://raw.githubusercontent.com/norflin321/diffusers_gradio/refactor/toolbox.py > install_logs.txt\n",
        "!rm -r sample_data"
      ]
    },
    {
      "cell_type": "code",
      "source": [
        "import torch\n",
        "import requests\n",
        "import os\n",
        "from toolbox import General, Const, Utils"
      ],
      "metadata": {
        "id": "idvwD0iydPgF"
      },
      "execution_count": 8,
      "outputs": []
    },
    {
      "cell_type": "code",
      "source": [
        "general = General()"
      ],
      "metadata": {
        "id": "6fmdHYfbJzlg"
      },
      "execution_count": 9,
      "outputs": []
    }
  ]
}