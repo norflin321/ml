{
  "cells": [
    {
      "cell_type": "markdown",
      "metadata": {
        "id": "view-in-github",
        "colab_type": "text"
      },
      "source": [
        "<a href=\"https://colab.research.google.com/github/norflin321/ml/blob/main/SDXL_autotrain_dreambooth.ipynb\" target=\"_parent\"><img src=\"https://colab.research.google.com/assets/colab-badge.svg\" alt=\"Open In Colab\"/></a>"
      ]
    },
    {
      "cell_type": "code",
      "execution_count": null,
      "metadata": {
        "collapsed": true,
        "id": "JvMRbVLEJlZT"
      },
      "outputs": [],
      "source": [
        "import os\n",
        "!pip install -U autotrain-advanced\n",
        "!autotrain setup --colab"
      ]
    },
    {
      "cell_type": "code",
      "execution_count": 4,
      "metadata": {
        "id": "A2-_lkBS1WKA"
      },
      "outputs": [],
      "source": [
        "# HYPERPARAMS\n",
        "os.environ[\"PROJECT_NAME\"] = \"sdxl_finetuned\"\n",
        "os.environ[\"MODEL_NAME\"] = \"stabilityai/stable-diffusion-xl-base-1.0\"\n",
        "os.environ[\"PROMPT\"] = \"style of sks\"\n",
        "os.environ[\"NUM_STEPS\"] = str(100)\n",
        "\n",
        "os.environ[\"USE_8BIT_ADAM\"] = str(False)\n",
        "os.environ[\"USE_XFORMERS\"] = str(False)\n",
        "os.environ[\"RESOLUTION\"] = str(1024)\n",
        "os.environ[\"LEARNING_RATE\"] = str(1e-4)\n",
        "os.environ[\"BATCH_SIZE\"] = str(1)\n",
        "os.environ[\"GRADIENT_ACCUMULATION\"] = str(4)\n",
        "os.environ[\"USE_FP16\"] = str(True)\n",
        "os.environ[\"TRAIN_TEXT_ENCODER\"] = str(False)\n",
        "os.environ[\"GRADIENT_CHECKPOINTING\"] = str(True)\n",
        "os.environ[\"PUSH_TO_HUB\"] = str(False)\n",
        "os.environ[\"HF_TOKEN\"] = \"\"\n",
        "os.environ[\"REPO_ID\"] = \"\""
      ]
    },
    {
      "cell_type": "code",
      "execution_count": null,
      "metadata": {
        "collapsed": true,
        "id": "g3cd_ED_yXXt"
      },
      "outputs": [],
      "source": [
        "!autotrain dreambooth \\\n",
        "--model ${MODEL_NAME} \\\n",
        "--project-name ${PROJECT_NAME} \\\n",
        "--image-path images/ \\\n",
        "--prompt \"${PROMPT}\" \\\n",
        "--resolution ${RESOLUTION} \\\n",
        "--batch-size ${BATCH_SIZE} \\\n",
        "--num-steps ${NUM_STEPS} \\\n",
        "--gradient-accumulation ${GRADIENT_ACCUMULATION} \\\n",
        "--lr ${LEARNING_RATE} \\\n",
        "$( [[ \"$USE_FP16\" == \"True\" ]] && echo \"--fp16\" ) \\\n",
        "$( [[ \"$USE_XFORMERS\" == \"True\" ]] && echo \"--xformers\" ) \\\n",
        "$( [[ \"$TRAIN_TEXT_ENCODER\" == \"True\" ]] && echo \"--train-text-encoder\" ) \\\n",
        "$( [[ \"$USE_8BIT_ADAM\" == \"True\" ]] && echo \"--use-8bit-adam\" ) \\\n",
        "$( [[ \"$GRADIENT_CHECKPOINTING\" == \"True\" ]] && echo \"--gradient-checkpointing\" ) \\\n",
        "$( [[ \"$PUSH_TO_HUB\" == \"True\" ]] && echo \"--push-to-hub --token ${HF_TOKEN} --repo-id ${REPO_ID}\" )"
      ]
    }
  ],
  "metadata": {
    "accelerator": "GPU",
    "colab": {
      "gpuType": "T4",
      "provenance": [],
      "include_colab_link": true
    },
    "kernelspec": {
      "display_name": "Python 3",
      "name": "python3"
    },
    "language_info": {
      "name": "python"
    }
  },
  "nbformat": 4,
  "nbformat_minor": 0
}