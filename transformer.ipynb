{
 "cells": [
  {
   "cell_type": "markdown",
   "id": "5f1c3f7d",
   "metadata": {},
   "source": [
    "## Implementation of Tranformer Architecture\n",
    "![alt](https://i.imgur.com/UxGDtmI.png)\n",
    "![alt](https://i.imgur.com/ITAFy1j.png)\n",
    "![alt](https://i.imgur.com/uiWyWCe.png)"
   ]
  },
  {
   "cell_type": "code",
   "execution_count": 8,
   "id": "1ec53847",
   "metadata": {},
   "outputs": [
    {
     "name": "stdout",
     "output_type": "stream",
     "text": [
      "pytorch version: 2.1.0.dev20230511 device: mps\n"
     ]
    }
   ],
   "source": [
    "import torch\n",
    "import torch.nn as nn\n",
    "from torch.nn import functional as F\n",
    "import matplotlib.pyplot as plt\n",
    "import pandas as pd\n",
    "\n",
    "import os.path\n",
    "from urllib.request import urlopen\n",
    "from datetime import datetime\n",
    "\n",
    "device = 'cuda' if torch.cuda.is_available() else 'mps' if torch.backends.mps.is_available() else 'cpu'\n",
    "plt.rcParams[\"figure.dpi\"] = 300\n",
    "plt.rcParams[\"savefig.dpi\"] = 300\n",
    "\n",
    "print(f'pytorch version: {torch.__version__} device: {device}')"
   ]
  },
  {
   "cell_type": "code",
   "execution_count": 9,
   "id": "156b17a0",
   "metadata": {},
   "outputs": [],
   "source": [
    "# hyperparameters\n",
    "batch_size = 100 # (64) how many independent sequences will we process in parallel?\n",
    "block_size = 64 # (256) what is the maximum context length for predictions?\n",
    "steps = 2500 # (5000)\n",
    "eval_interval = 500 # (500)\n",
    "learning_rate = 0.00035 # (0.0003) the self attention can't tolerate very high learning rates\n",
    "eval_iters = 100 # (200)\n",
    "n_embd = 200 # (384)\n",
    "n_head = 5 # (6)\n",
    "n_layer = 5 # (6)\n",
    "dropout = 0.0 # (0.2)"
   ]
  },
  {
   "cell_type": "code",
   "execution_count": 10,
   "id": "b1b1b26e",
   "metadata": {},
   "outputs": [
    {
     "name": "stdout",
     "output_type": "stream",
     "text": [
      "dataset len: 1115394\n"
     ]
    }
   ],
   "source": [
    "def load_dataset():\n",
    "    filename = 'datasets/tiny_shakespeare.txt'\n",
    "    url = 'https://raw.githubusercontent.com/karpathy/char-rnn/master/data/tinyshakespeare/input.txt'\n",
    "    if not os.path.isfile(filename):\n",
    "        print('Downloading dataset...')\n",
    "        data = urlopen(url).read()\n",
    "        file = open(filename, 'wb')\n",
    "        file.write(data)\n",
    "        file.close()\n",
    "    with open(filename, 'r', encoding='utf-8') as file:\n",
    "        return file.read()\n",
    "\n",
    "text = load_dataset()\n",
    "print(f'dataset len: {len(text)}')"
   ]
  },
  {
   "cell_type": "code",
   "execution_count": 11,
   "id": "06704122",
   "metadata": {},
   "outputs": [
    {
     "data": {
      "text/plain": [
       "0     \\n\n",
       "1       \n",
       "2      !\n",
       "3      $\n",
       "4      &\n",
       "      ..\n",
       "60     v\n",
       "61     w\n",
       "62     x\n",
       "63     y\n",
       "64     z\n",
       "Length: 65, dtype: object"
      ]
     },
     "execution_count": 11,
     "metadata": {},
     "output_type": "execute_result"
    }
   ],
   "source": [
    "# here are all the unique characters that occur in this text\n",
    "chars = sorted(list(set(text)))\n",
    "vocab_size = len(chars)\n",
    "\n",
    "# create a mapping from characters to integers\n",
    "stoi = { ch:i for i,ch in enumerate(chars) }\n",
    "itos = { i:ch for i,ch in enumerate(chars) }\n",
    "encode = lambda s: [stoi[c] for c in s] # encoder: take a string, output a list of integers\n",
    "decode = lambda l: ''.join([itos[i] for i in l]) # decoder: take a list of integers, output a string\n",
    "\n",
    "pd.Series(itos)"
   ]
  },
  {
   "cell_type": "code",
   "execution_count": 12,
   "id": "62f86dd4",
   "metadata": {},
   "outputs": [
    {
     "name": "stdout",
     "output_type": "stream",
     "text": [
      "tensor([18, 47, 56,  ..., 43, 56, 43]) 1003854\n",
      "tensor([12,  0,  0,  ..., 45,  8,  0]) 111540\n"
     ]
    }
   ],
   "source": [
    "# Train and test splits\n",
    "data = torch.tensor(encode(text), dtype=torch.long)\n",
    "n = int(0.9*len(data)) # first 90% will be train, rest val\n",
    "train_data = data[:n]\n",
    "val_data = data[n:]\n",
    "\n",
    "print(train_data, len(train_data))\n",
    "print(val_data, len(val_data))"
   ]
  },
  {
   "cell_type": "code",
   "execution_count": 13,
   "id": "267a6299",
   "metadata": {},
   "outputs": [],
   "source": [
    "# data loading\n",
    "def get_batch(split):\n",
    "    # generate a small batch of data of inputs x and targets y\n",
    "    data = train_data if split == 'train' else val_data\n",
    "    ix = torch.randint(len(data) - block_size, (batch_size,))\n",
    "    x = torch.stack([data[i:i+block_size] for i in ix])\n",
    "    y = torch.stack([data[i+1:i+block_size+1] for i in ix])\n",
    "    x, y = x.to(device), y.to(device)\n",
    "    return x, y"
   ]
  },
  {
   "cell_type": "code",
   "execution_count": 14,
   "id": "99a87757",
   "metadata": {},
   "outputs": [],
   "source": [
    "# this function averages up the loss over multiple batches, for each train and val sets we generate\n",
    "# many batches of data (how many specified by eval_batches_num variable), then measure a loss for\n",
    "# each of them and get their average. so this will be a lot less noisy, then a loss inside training\n",
    "# loop for a random batch\n",
    "@torch.no_grad()\n",
    "def estimate_loss(step):\n",
    "    out = {}\n",
    "    model.eval()\n",
    "    for split in ['train', 'val']:\n",
    "        losses = torch.zeros(eval_iters)\n",
    "        for k in range(eval_iters):\n",
    "            X, Y = get_batch(split)\n",
    "            logits, loss = model(X, Y)\n",
    "            print('\\r' + f'--- step {step}/{steps}, evaluate {split} {k}/{eval_iters} loss: {loss}', end='')\n",
    "            losses[k] = loss.item()\n",
    "        out[split] = losses.mean()\n",
    "    model.train()\n",
    "    return out"
   ]
  },
  {
   "cell_type": "markdown",
   "id": "77f0cfc3",
   "metadata": {},
   "source": [
    "![alt](https://i.imgur.com/NBhgKbV.png)"
   ]
  },
  {
   "cell_type": "code",
   "execution_count": 15,
   "id": "1ebccdbd",
   "metadata": {},
   "outputs": [],
   "source": [
    "class Head(nn.Module):\n",
    "    \"\"\" one head of self-attention \"\"\"\n",
    "    def __init__(self, head_size):\n",
    "        super().__init__()\n",
    "        self.key = nn.Linear(n_embd, head_size, bias=False)\n",
    "        self.query = nn.Linear(n_embd, head_size, bias=False)\n",
    "        self.value = nn.Linear(n_embd, head_size, bias=False)\n",
    "        self.register_buffer('tril', torch.tril(torch.ones(block_size, block_size)))\n",
    "        self.dropout = nn.Dropout(dropout)\n",
    "        \n",
    "    def forward(self, x):\n",
    "        # input of size (batch, time-step, channels)\n",
    "        # output of size (batch, time-step, head size)\n",
    "        B,T,C = x.shape\n",
    "        k = self.key(x)   # (B,T,hs)\n",
    "        q = self.query(x) # (B,T,hs)\n",
    "        # compute attention scores ('affinities')\n",
    "        wei = q @ k.transpose(-2,-1) * k.shape[-1]**-0.5 # (B, T, hs) @ (B, hs, T) -> (B, T, T)\n",
    "        wei = wei.masked_fill(self.tril[:T, :T] == 0, float('-inf')) # (B, T, T)\n",
    "        wei = F.softmax(wei, dim=-1) # (B, T, T)\n",
    "        wei = self.dropout(wei)\n",
    "        # perform the weighted aggregation of the values\n",
    "        v = self.value(x) # (B,T,hs)\n",
    "        out = wei @ v # (B, T, T) @ (B, T, hs) -> (B, T, hs)\n",
    "        return out\n",
    "\n",
    "class MultiHeadAttention(nn.Module):\n",
    "    \"\"\" multiple heads of self-attention in parallel \"\"\"\n",
    "    def __init__(self, num_heads, head_size):\n",
    "        super().__init__()\n",
    "        self.heads = nn.ModuleList([Head(head_size) for _ in range(num_heads)])\n",
    "        self.proj = nn.Linear(head_size * num_heads, n_embd)\n",
    "        self.dropout = nn.Dropout(dropout)\n",
    "        \n",
    "    def forward(self, x):\n",
    "        out = torch.cat([h(x) for h in self.heads], dim=-1)\n",
    "        out = self.dropout(self.proj(out))\n",
    "        return out"
   ]
  },
  {
   "cell_type": "code",
   "execution_count": 16,
   "id": "e964a082",
   "metadata": {},
   "outputs": [],
   "source": [
    "class FeedFoward(nn.Module):\n",
    "    \"\"\" a simple linear layer followed by a non-linearity \"\"\"\n",
    "    def __init__(self, n_embd):\n",
    "        super().__init__()\n",
    "        self.net = nn.Sequential(\n",
    "            nn.Linear(n_embd, 4 * n_embd),\n",
    "            nn.GELU(),\n",
    "            nn.Linear(4 * n_embd, n_embd),\n",
    "            nn.Dropout(dropout),\n",
    "        )\n",
    "        \n",
    "    def forward(self, x):\n",
    "        return self.net(x)"
   ]
  },
  {
   "cell_type": "markdown",
   "id": "a0aa24db",
   "metadata": {},
   "source": [
    "![alt](https://i.imgur.com/JM9kqPh.png)"
   ]
  },
  {
   "cell_type": "code",
   "execution_count": 17,
   "id": "d9d92d76",
   "metadata": {},
   "outputs": [],
   "source": [
    "class Block(nn.Module):\n",
    "    \"\"\" Transformer block: communication followed by computation \"\"\"\n",
    "    def __init__(self, n_embd, n_head):\n",
    "        # n_embd: embedding dimension, n_head: the number of heads we'd like\n",
    "        super().__init__()\n",
    "        head_size = n_embd // n_head\n",
    "        self.sa = MultiHeadAttention(n_head, head_size)\n",
    "        self.ffwd = FeedFoward(n_embd)\n",
    "        self.ln1 = nn.LayerNorm(n_embd)\n",
    "        self.ln2 = nn.LayerNorm(n_embd)\n",
    "        \n",
    "    def forward(self, x):\n",
    "        x = x + self.sa(self.ln1(x))\n",
    "        x = x + self.ffwd(self.ln2(x))\n",
    "        return x"
   ]
  },
  {
   "cell_type": "code",
   "execution_count": 18,
   "id": "4bf29573",
   "metadata": {},
   "outputs": [],
   "source": [
    "class GPTModel(nn.Module):\n",
    "    def __init__(self):\n",
    "        super().__init__()\n",
    "        # each token directly reads off the logits for the next token from a lookup table\n",
    "        self.token_embedding_table = nn.Embedding(vocab_size, n_embd)\n",
    "        self.position_embedding_table = nn.Embedding(block_size, n_embd)\n",
    "        self.blocks = nn.Sequential(*[Block(n_embd, n_head=n_head) for _ in range(n_layer)])\n",
    "        self.ln_f = nn.LayerNorm(n_embd) # final layer norm\n",
    "        self.lm_head = nn.Linear(n_embd, vocab_size)\n",
    "        # better init, not covered in the original GPT video, but important, will cover in followup video\n",
    "        self.apply(self._init_weights)\n",
    "        \n",
    "    def _init_weights(self, module):\n",
    "        if isinstance(module, nn.Linear):\n",
    "            torch.nn.init.normal_(module.weight, mean=0.0, std=0.02)\n",
    "            if module.bias is not None:\n",
    "                torch.nn.init.zeros_(module.bias)\n",
    "        elif isinstance(module, nn.Embedding):\n",
    "            torch.nn.init.normal_(module.weight, mean=0.0, std=0.02)\n",
    "            \n",
    "    def forward(self, idx, targets=None):\n",
    "        B, T = idx.shape\n",
    "        # idx and targets are both (B,T) tensor of integers\n",
    "        tok_emb = self.token_embedding_table(idx) # (B,T,C)\n",
    "        pos_emb = self.position_embedding_table(torch.arange(T, device=device)) # (T,C)\n",
    "        x = tok_emb + pos_emb # (B,T,C)\n",
    "        x = self.blocks(x) # (B,T,C)\n",
    "        x = self.ln_f(x) # (B,T,C)\n",
    "        logits = self.lm_head(x) # (B,T,vocab_size)\n",
    "        if targets is None:\n",
    "            loss = None\n",
    "        else:\n",
    "            B, T, C = logits.shape\n",
    "            logits = logits.view(B*T, C)\n",
    "            targets = targets.view(B*T)\n",
    "            loss = F.cross_entropy(logits, targets)\n",
    "        return logits, loss\n",
    "    \n",
    "    @torch.no_grad()\n",
    "    def generate(self, idx, max_new_tokens):\n",
    "        # idx is (B, T) array of indices in the current context\n",
    "        for _ in range(max_new_tokens):\n",
    "            idx_cond = idx[:, -block_size:] # crop idx to the last block_size tokens\n",
    "            logits, loss = self(idx_cond) # get the predictions\n",
    "            logits = logits[:, -1, :] # focus only on the last time step, -> (B, C)\n",
    "            probs = F.softmax(logits, dim=-1) # apply softmax to get probabilities, -> (B, C)\n",
    "            idx_next = torch.multinomial(probs, num_samples=1) # sample from the distribution -> (B, 1)\n",
    "            idx = torch.cat((idx, idx_next), dim=1) # # append sampled index to the running sequence, -> (B, T+1)\n",
    "        return idx"
   ]
  },
  {
   "cell_type": "code",
   "execution_count": 19,
   "id": "91786bf6",
   "metadata": {},
   "outputs": [
    {
     "name": "stdout",
     "output_type": "stream",
     "text": [
      "model has 2449265 parameters\n"
     ]
    }
   ],
   "source": [
    "model = GPTModel().to(device)\n",
    "print(f'model has {sum(p.numel() for p in model.parameters())} parameters')"
   ]
  },
  {
   "cell_type": "code",
   "execution_count": 13,
   "id": "a7e0a8a1",
   "metadata": {},
   "outputs": [
    {
     "name": "stdout",
     "output_type": "stream",
     "text": [
      "11:58:00 training start...\n",
      "-- step 0/2500, avg train loss 4.2969, avg val loss 4.293005585\n",
      "-- step 500/2500, avg train loss 1.7443, avg val loss 1.885528704\n",
      "-- step 1000/2500, avg train loss 1.4850, avg val loss 1.680270657\n",
      "-- step 1500/2500, avg train loss 1.3726, avg val loss 1.601002476\n",
      "-- step 2000/2500, avg train loss 1.3122, avg val loss 1.571984238\n",
      "-- step 2499/2500, avg train loss 1.2601, avg val loss 1.551236766\n",
      "12:17:24 training end...\n"
     ]
    }
   ],
   "source": [
    "# Karpathy best val loss 1.4873\n",
    "# My best val loss 1.5512 (19min)\n",
    "optimizer = torch.optim.AdamW(model.parameters(), lr=learning_rate) # create a PyTorch optimizer\n",
    "def train_model():\n",
    "    print(f'{datetime.now().strftime(\"%H:%M:%S\")} training start...')\n",
    "    for step in range(steps):\n",
    "        evaluated = False\n",
    "        # every once in a while evaluate the loss on train and val sets\n",
    "        if step % eval_interval == 0 or step == steps - 1:\n",
    "            losses = estimate_loss(step)\n",
    "            evaluated = True\n",
    "            print('\\r' + f'-- step {step}/{steps}, avg train loss {losses[\"train\"]:.4f}, avg val loss {losses[\"val\"]:.4f}')\n",
    "        xb, yb = get_batch('train') # sample a batch of data\n",
    "        logits, loss = model(xb, yb) # evaluate the loss\n",
    "        if not evaluated:\n",
    "            print('\\r' + f'-- step {step}/{steps}, train loss {loss:.4f}', end='')\n",
    "        optimizer.zero_grad(set_to_none=True)\n",
    "        loss.backward()\n",
    "        optimizer.step()\n",
    "    print(f'{datetime.now().strftime(\"%H:%M:%S\")} training end...')\n",
    "\n",
    "train_model()"
   ]
  },
  {
   "cell_type": "code",
   "execution_count": null,
   "id": "292da4cd",
   "metadata": {
    "scrolled": true
   },
   "outputs": [
    {
     "name": "stdout",
     "output_type": "stream",
     "text": [
      "Generate from the model...\n"
     ]
    }
   ],
   "source": [
    "print('Generate from the model...')\n",
    "context = torch.zeros((1, 1), dtype=torch.long, device=device)\n",
    "print(decode(model.generate(context, max_new_tokens=500)[0].tolist()))\n",
    "\n",
    "# open('more.txt', 'w').write(decode(m.generate(context, max_new_tokens=10000)[0].tolist()))"
   ]
  }
 ],
 "metadata": {
  "kernelspec": {
   "display_name": "Python 3 (ipykernel)",
   "language": "python",
   "name": "python3"
  },
  "language_info": {
   "codemirror_mode": {
    "name": "ipython",
    "version": 3
   },
   "file_extension": ".py",
   "mimetype": "text/x-python",
   "name": "python",
   "nbconvert_exporter": "python",
   "pygments_lexer": "ipython3",
   "version": "3.11.3"
  }
 },
 "nbformat": 4,
 "nbformat_minor": 5
}
